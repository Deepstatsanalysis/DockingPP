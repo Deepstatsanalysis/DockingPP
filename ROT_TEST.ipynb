{
 "cells": [
  {
   "cell_type": "code",
   "execution_count": 38,
   "metadata": {},
   "outputs": [
    {
     "name": "stdout",
     "output_type": "stream",
     "text": [
      "The autoreload extension is already loaded. To reload it, use:\n",
      "  %reload_ext autoreload\n"
     ]
    }
   ],
   "source": [
    "import sys, os, math, numpy as np\n",
    "import pyproteinsExt.structure.coordinates as PDB\n",
    "# sys.path.append(\"DockingPP\")\n",
    "from dockingPP import zParse\n",
    "%load_ext autoreload"
   ]
  },
  {
   "cell_type": "markdown",
   "metadata": {},
   "source": [
    "## Rotating functions"
   ]
  },
  {
   "cell_type": "code",
   "execution_count": 156,
   "metadata": {},
   "outputs": [],
   "source": [
    "%autoreload 2\n",
    "parser = PDB.Parser()\n",
    "pdbObj = parser.load(file=\"/Users/jprieto/Docking/data/decoys_bm4_zd3.0.2_6deg_fixed/input_pdbs/1HIA_r_u.pdb.ms_2\")\n",
    "\n",
    "def trans_matrix(psi,theta,phi):\n",
    "    \"\"\"Construction de la matrice de transition a partir des angles d'euler\"\"\"\n",
    "    cp=math.cos(psi)\n",
    "    sp=math.sin(psi)\n",
    "    ct=math.cos(theta)\n",
    "    st=math.sin(theta)\n",
    "    cf=math.cos(phi)\n",
    "    sf=math.sin(phi)\n",
    "    d11= cp*cf-sp*ct*sf\n",
    "    d12=-cp*sf-sp*ct*cf\n",
    "    d13=sp*st\n",
    "    \n",
    "    d21=sp*cf+cp*ct*sf\n",
    "    d22=-sp*sf+cp*ct*cf\n",
    "    d23=-cp*st\n",
    "    \n",
    "    d31=st*sf\n",
    "    d32=st*cf\n",
    "    d33=ct\n",
    "    tr_matrix = np.matrix([[d11,d12,d13 ],[d21,d22,d23],[d31,d32,d33]])\n",
    "#     tr_matrix=tr_matrix.T\n",
    "    return tr_matrix\n",
    "\n",
    "def coord_matrix(O,P):\n",
    "    \"\"\"O,P tuples with 3 values : the x, y and z coordinates of a rotation origin - O\n",
    "    and of a rotating point or atom - P\n",
    "    Returns a numpy array with dimensions (1,3) \"\"\"\n",
    "\n",
    "    rel_coordinates=np.matrix([[P[i]-O[i]] for i in range(3)])\n",
    "    return rel_coordinates\n",
    "\n",
    "def transpose(A,B):\n",
    "    \"\"\"A,B two numpy matrixes A a transition matrix, 'matrice de passage'\n",
    "    B the points to be transferred \"\"\"\n",
    "    return A.dot(B)\n",
    "\n",
    "def recenter(O,P):\n",
    "    \"\"\"O,P tuples with 3 values : the x, y and z coordinates of a rotation origin - O\n",
    "    and of a rotated point or atom - P\n",
    "    Returns a numpy array with dimensions (1,3) \"\"\"\n",
    "\n",
    "    # assert len(O) == len(P) == 3\n",
    "\n",
    "    rel_coordinates=P+np.matrix([[o] for o in O])\n",
    "    return rel_coordinates\n",
    "def translate_rev(O,P):\n",
    "    \"\"\"O,P tuples with 3 values : the x, y and z coordinates of a rotation origin - O\n",
    "    and of a rotated point or atom - P\n",
    "    Returns a numpy array with dimensions (1,3) \"\"\"\n",
    "\n",
    "    # assert len(O) == len(P) == 3\n",
    "\n",
    "    rel_coordinates=P-np.matrix([[o] for o in O])\n",
    "    return rel_coordinates\n",
    "\n",
    "\n",
    "\n",
    "def unmatrix(matrix): \n",
    "    t=math.acos(matrix[2,2])\n",
    "    f=math.asin(matrix[2,0]/math.sin(t))\n",
    "    p=math.asin(matrix[0,2]/math.sin(t))\n",
    "\n",
    "    return (p,t,f)\n",
    "# A revoir l'efficacité de cette fonction\n",
    "# def is_orthogonal(M):\n",
    "#     if M.T.all() == M.I.all() :\n",
    "#         print(\"This is an orthogonal matrix\")\n",
    "#         return True\n",
    "#     else :\n",
    "#         return False\n"
   ]
  },
  {
   "cell_type": "code",
   "execution_count": 157,
   "metadata": {},
   "outputs": [
    {
     "name": "stdout",
     "output_type": "stream",
     "text": [
      "[[ 0.85147086  0.42379542  0.3088605 ]\n",
      " [-0.51362971  0.79274681  0.32823317]\n",
      " [-0.10574446 -0.43812091  0.89267473]]\n",
      "0.42379542395370057\n"
     ]
    }
   ],
   "source": [
    "l = [3, 3]\n",
    "array=np.empty(l)\n",
    "print(array)\n",
    "print(array[0,1])"
   ]
  },
  {
   "cell_type": "code",
   "execution_count": 173,
   "metadata": {},
   "outputs": [
    {
     "name": "stdout",
     "output_type": "stream",
     "text": [
      "(0.3808886889005771, 1.105860301383092, -0.7705180490419709)\n",
      "(0.3808886889005771, 1.105860301383092, -0.7705180490419709)\n",
      "OK\n"
     ]
    }
   ],
   "source": [
    "DD=zParse(\"/Users/jprieto/Docking/data/decoys_bm4_zd3.0.2_6deg_fixed/results/1HIA.zd3.0.2.fg.fixed.out\")\n",
    "# print(DD.baryREC)\n",
    "# print(DD.eulerREC)\n",
    "DD.setReceptor(\"/Users/jprieto/Docking/data/decoys_bm4_zd3.0.2_6deg_fixed/input_pdbs/1HIA_r_u.pdb.ms_2\")\n",
    "DD.setLigand(\"/Users/jprieto/Docking/data/decoys_bm4_zd3.0.2_6deg_fixed/input_pdbs/1HIA_l_u.pdb.ms_2\")\n",
    "\n",
    "\n",
    "# for pose in DD.pList[0:1] : \n",
    "#     A=trans_matrix(*DD.eulerREC)\n",
    "# #     print(A)\n",
    "#     B=trans_matrix(*pose.euler)\n",
    "# #     print(B)\n",
    "#     Mmat=B.dot(A)\n",
    "#     new_angles=unmatrix(Mmat)\n",
    "# #     print(Mmat)\n",
    "# #     print(trans_matrix(*new_angles))\n",
    "# #     print(DD.eulerREC)\n",
    "# #     print(pose.euler)\n",
    "#     pose.euler=new_angles\n",
    "\n",
    "DD.pList[0].ccmap(dist=5)\n",
    "\n",
    "    \n",
    "C=DD.pList[0].resMapList\n",
    "\n",
    "print(new_angles)\n",
    "if unmatrix(trans_matrix(*new_angles))==new_angles: \n",
    "    print(unmatrix(trans_matrix(*new_angles)))\n",
    "    print('OK')\n",
    "else : \n",
    "    print(unmatrix(trans_matrix(*new_angles)))"
   ]
  },
  {
   "cell_type": "code",
   "execution_count": 177,
   "metadata": {},
   "outputs": [],
   "source": [
    "for atom in DD.pdbObjLigand.model[0]:\n",
    "    initial_coords=(atom.x, atom.y, atom.z)\n",
    "    a=trans_matrix(*DD.eulerREC)\n",
    "    b=coord_matrix(DD.baryLIG, initial_coords)\n",
    "#     print(initial_coords)\n",
    "#     print(DD.baryLIG)\n",
    "#     print(b)\n",
    "    # print(b)\n",
    "    coords=a.dot(b)\n",
    "    center_coords=recenter(DD.baryLIG, coords)\n",
    "    center_coords=translate(DD.baryREC,center_coords)\n",
    "#     print(coords)\n",
    "#     print(DD.baryLIG)\n",
    "#     print(center_coords)\n",
    "    atom.x=coords[0,0]\n",
    "    atom.y=coords[1,0]\n",
    "    atom.z=coords[2,0]\n",
    "# print(DD.pdbObjLigand)\n",
    "\n",
    "with open(\"new_1HIA_lig.pdb\",'w') as f: \n",
    "    f.write(str(DD.pdbObjLigand))"
   ]
  },
  {
   "cell_type": "code",
   "execution_count": 131,
   "metadata": {},
   "outputs": [
    {
     "name": "stdout",
     "output_type": "stream",
     "text": [
      "43\n",
      "30\n",
      "['102YRec', '141YRec', '151YRec', '152YRec', '153YRec', '154YRec', '193YRec', '194YRec', '195YRec', '196YRec', '197YRec', '212YRec', '213YRec', '214YRec', '32XRec', '33XRec', '34XRec', '35XRec', '36XRec', '38XRec', '39XRec', '40XRec', '41XRec', '42XRec', '43XRec', '54XRec', '55XRec', '56XRec', '57XRec', '58XRec', '59XRec', '60XRec', '61XRec', '62XRec', '63XRec', '64XRec', '66XRec', '70XRec', '71XRec', '72XRec', '73XRec', '74XRec', '75XRec']\n"
     ]
    }
   ],
   "source": [
    "def where(liste, str_cond) : \n",
    "    count=0\n",
    "    for i in liste : \n",
    "        if str_cond in i : \n",
    "            count+=1\n",
    "    return count\n",
    "\n",
    "print(where(C,'Rec'))\n",
    "print(where(C,'Lig'))\n",
    "# print(DD.pList[0]._ccmap)\n",
    "\n",
    "print(sorted([ i for i in C if 'Rec' in i]))"
   ]
  },
  {
   "cell_type": "markdown",
   "metadata": {},
   "source": [
    "# Test matrices"
   ]
  },
  {
   "cell_type": "code",
   "execution_count": 135,
   "metadata": {},
   "outputs": [],
   "source": [
    "A=np.matrix([[1,1,1],[2,2,2],[3,3,3]])\n",
    "X=np.matrix([[1],[2],[3]])\n",
    "B=np.matrix([[1,2,3],[2,2,3],[4,3,2]])"
   ]
  },
  {
   "cell_type": "code",
   "execution_count": null,
   "metadata": {},
   "outputs": [],
   "source": []
  }
 ],
 "metadata": {
  "kernelspec": {
   "display_name": "Python 3",
   "language": "python",
   "name": "python3"
  },
  "language_info": {
   "codemirror_mode": {
    "name": "ipython",
    "version": 3
   },
   "file_extension": ".py",
   "mimetype": "text/x-python",
   "name": "python",
   "nbconvert_exporter": "python",
   "pygments_lexer": "ipython3",
   "version": "3.7.3"
  }
 },
 "nbformat": 4,
 "nbformat_minor": 2
}
