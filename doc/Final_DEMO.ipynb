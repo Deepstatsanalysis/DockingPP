{
 "cells": [
  {
   "cell_type": "markdown",
   "metadata": {},
   "source": [
    "# Import modules "
   ]
  },
  {
   "cell_type": "code",
   "execution_count": 1,
   "metadata": {},
   "outputs": [],
   "source": [
    "import sys\n",
    "sys.path.append(\"/Users/jprieto/DockingPP\")\n",
    "from dockingPP import parse, zParse\n",
    "from core_scores import Scores, countNative, eval_natives\n",
    "from core_clustering import rankCluster as rC, sortCluster, birchCluster\n",
    "%load_ext autoreload"
   ]
  },
  {
   "cell_type": "markdown",
   "metadata": {},
   "source": [
    "## Create DockData object"
   ]
  },
  {
   "cell_type": "code",
   "execution_count": 3,
   "metadata": {},
   "outputs": [],
   "source": [
    "# Megadock version\n",
    "DD=parse(\"/Users/jprieto/Docking/data/unbound-outputs/4CPA_r-4CPA_l.detail\")\n",
    "DD.setReceptor(\"/Users/jprieto/Docking/data/benchmark5/structures/4CPA_r_u.pdb\")\n",
    "DD.setLigand(\"/Users/jprieto/Docking/data/benchmark5/structures/4CPA_l_u.pdb\")\n",
    "\n",
    "# zDock version with pre-treated pdbs using 'cut -c1-54'\n",
    "zD=zParse(\"/Users/jprieto/Docking/data/decoys_bm4_zd3.0.2_6deg_fixed/results/4CPA.zd3.0.2.fg.fixed.out\")\n",
    "zD.setReceptor(\"/Users/jprieto/Docking/ZD_new_pdbs/4CPA_r_u.pdb.ms_2\")\n",
    "zD.setLigand(\"/Users/jprieto/Docking/ZD_new_pdbs/4CPA_l_u.pdb.ms_2\")"
   ]
  },
  {
   "cell_type": "markdown",
   "metadata": {},
   "source": [
    "## Calculate Contact maps"
   ]
  },
  {
   "cell_type": "code",
   "execution_count": 4,
   "metadata": {},
   "outputs": [
    {
     "name": "stdout",
     "output_type": "stream",
     "text": [
      "Created 10 data packets (50 zObjects each) for process pool\n",
      "unpacking\n"
     ]
    }
   ],
   "source": [
    "DD.ccmap(start=0,stop=500,pSize=50)"
   ]
  },
  {
   "cell_type": "markdown",
   "metadata": {},
   "source": [
    "## Calculate all scores and write frequences and scores to files"
   ]
  },
  {
   "cell_type": "code",
   "execution_count": 6,
   "metadata": {},
   "outputs": [
    {
     "name": "stdout",
     "output_type": "stream",
     "text": [
      "Warning : only 500 poses could be analysed\n",
      "Warning : File /Users/jprieto/docking/Resultats/mycomplex_resstats.tab already exists, do you wish to continue anyway and replace it ? (yes/no)yes\n",
      "Warning : File /Users/jprieto/docking/Resultats/mycomplex_constats.tab already exists, do you wish to continue anyway and replace it ? (yes/no)yes\n",
      "Warning : File /Users/jprieto/docking/Resultats/mycomplex.tsv already exists, do you wish to continue anyway and replace it ? (yes/no)yes\n"
     ]
    },
    {
     "data": {
      "text/plain": [
       "'/Users/jprieto/docking/Resultats/mycomplex.tsv'"
      ]
     },
     "execution_count": 6,
     "metadata": {},
     "output_type": "execute_result"
    }
   ],
   "source": [
    "DD.write_all_scores(filename=\"/Users/jprieto/docking/Resultats/mycomplex\")"
   ]
  },
  {
   "cell_type": "markdown",
   "metadata": {},
   "source": [
    "## Parse scores with the Scores Class"
   ]
  },
  {
   "cell_type": "code",
   "execution_count": 7,
   "metadata": {},
   "outputs": [],
   "source": [
    "SC=Scores(\"/Users/jprieto/docking/Resultats/mycomplex.tsv\")"
   ]
  },
  {
   "cell_type": "markdown",
   "metadata": {},
   "source": [
    "## Make clusters with the BSAS algorithm \n",
    "*different ranks can be used*"
   ]
  },
  {
   "cell_type": "code",
   "execution_count": 8,
   "metadata": {},
   "outputs": [],
   "source": [
    "natural_rank= [i for i in range(50)]\n",
    "\n",
    "SC.setPoses(DD.pList)\n",
    "res_fr_rank=SC.rankPoses(element=\"res_fr_sum\")\n",
    "con_fr_rank=SC.rankPoses(element=\"con_fr_sum\")\n",
    "\n",
    "c_clusters=rC(DD,con_fr_rank,5, out='dict', stop=500)\n"
   ]
  },
  {
   "cell_type": "markdown",
   "metadata": {},
   "source": [
    "## You can also use birch Algorithm for instance "
   ]
  },
  {
   "cell_type": "code",
   "execution_count": 9,
   "metadata": {},
   "outputs": [],
   "source": [
    "b_clusters=birchCluster(DD, 5)\n",
    "# print(b_clusters)\n",
    "b_dict={}\n",
    "# turn list into dictionnary\n",
    "for u,c in enumerate(b_clusters): \n",
    "    if u == 500: \n",
    "        break\n",
    "    if c not in b_dict: \n",
    "        b_dict[int(c)]=[] \n",
    "    b_dict[int(c)].append(DD.pList[int(u)])"
   ]
  },
  {
   "cell_type": "markdown",
   "metadata": {},
   "source": [
    "## Sort clusters using Ranks and get representatives"
   ]
  },
  {
   "cell_type": "code",
   "execution_count": 10,
   "metadata": {},
   "outputs": [],
   "source": [
    "\n",
    "sor_clus=sortCluster(c_clusters,SC, fn=\"cons_score\")\n",
    "sor_bclus=sortCluster(b_dict,SC, fn=\"cons_score\")\n",
    "\n",
    "# These are the final candidate poses for prediction. \n",
    "rep=[c[0] for c in sor_clus]\n",
    "\n",
    "brep=[c[0] for c in sor_bclus]\n"
   ]
  },
  {
   "cell_type": "code",
   "execution_count": 11,
   "metadata": {},
   "outputs": [
    {
     "name": "stdout",
     "output_type": "stream",
     "text": [
      "[175, 315, 166, 81, 360, 450, 394, 29, 295, 455, 28, 420, 240, 11, 113, 426, 203, 148, 94, 109, 283, 324, 75, 194, 22, 40, 99, 180, 247, 382, 105, 453, 397, 95, 70, 464, 425, 372, 344, 476, 254, 427, 216, 257, 458, 227, 380, 356, 87, 150, 359, 333, 483]\n",
      "[387, 293, 143, 367, 326, 352, 457, 278, 451, 222, 173, 337, 166, 378, 13, 91, 80, 38, 484, 23, 74, 21, 209, 100, 469, 155, 92, 33, 8, 5, 156, 130, 4, 17, 129, 1, 42, 104, 3, 12, 2, 317, 71, 45, 365, 220, 70, 443, 48, 79, 211, 107, 171, 373, 349, 448, 476]\n",
      "70) (0.42, 2.66, -2.19) (2.4, -21.599999999999998, -3.5999999999999996)\n",
      "166) (-0.42, 1.83, -0.47) (-4.8, -12.0, -14.399999999999999)\n",
      "476) (-2.83, 1.53, -0.3) (22.8, 4.8, 19.2)\n"
     ]
    }
   ],
   "source": [
    "print([p.id for p in rep])\n",
    "print([p.id for p in brep])\n",
    "\n",
    "a=brep[:]\n",
    "a.extend(rep)\n",
    "a=list(set(a))\n",
    "for p in a : \n",
    "    if p in rep and p in brep:\n",
    "        print(p)"
   ]
  },
  {
   "cell_type": "markdown",
   "metadata": {},
   "source": [
    "## Analyse the performance of each method"
   ]
  },
  {
   "cell_type": "code",
   "execution_count": 12,
   "metadata": {},
   "outputs": [
    {
     "name": "stdout",
     "output_type": "stream",
     "text": [
      "{5: 0, 10: 1, 20: 1, 100: 2, 200: 2, 'out': 0}\n",
      "{5: 0, 10: 0, 20: 2, 100: 4, 200: 4, 'out': 0}\n"
     ]
    }
   ],
   "source": [
    "# The MEGADOCK PARSER already picks up the RMSD of each decoy in the results file \n",
    "# For zDock, you will have to set it manually for each decoy using 'p.set_RMSD(rmsd)' \n",
    "# You \n",
    "rmsds=[p.rmsd for p in rep]\n",
    "brmsds=[p.rmsd for p in brep]\n",
    "print(countNative(rmsds))\n",
    "print(countNative(brmsds))\n",
    "\n"
   ]
  },
  {
   "cell_type": "markdown",
   "metadata": {},
   "source": [
    "## Now use it on a set of complexes and count how many you got right "
   ]
  },
  {
   "cell_type": "code",
   "execution_count": 15,
   "metadata": {},
   "outputs": [
    {
     "name": "stdout",
     "output_type": "stream",
     "text": [
      "(['mycomplex'], [])\n"
     ]
    }
   ],
   "source": [
    "Natives={}\n",
    "Natives[\"mycomplex\"]=countNative(rmsds)\n",
    "print(eval_natives(Natives, 10))"
   ]
  }
 ],
 "metadata": {
  "kernelspec": {
   "display_name": "Python 3",
   "language": "python",
   "name": "python3"
  },
  "language_info": {
   "codemirror_mode": {
    "name": "ipython",
    "version": 3
   },
   "file_extension": ".py",
   "mimetype": "text/x-python",
   "name": "python",
   "nbconvert_exporter": "python",
   "pygments_lexer": "ipython3",
   "version": "3.7.3"
  }
 },
 "nbformat": 4,
 "nbformat_minor": 2
}
