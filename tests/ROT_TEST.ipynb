{
 "cells": [
  {
   "cell_type": "code",
   "execution_count": 206,
   "metadata": {},
   "outputs": [
    {
     "name": "stdout",
     "output_type": "stream",
     "text": [
      "The autoreload extension is already loaded. To reload it, use:\n",
      "  %reload_ext autoreload\n"
     ]
    }
   ],
   "source": [
    "import sys, os, math, numpy as np, random\n",
    "import pyproteinsExt.structure.coordinates as PDB\n",
    "# sys.path.append(\"DockingPP\")\n",
    "from dockingPP import zParse\n",
    "from rotation_utils import trans_matrix , eulerFromMatrix, vertical_matrix, equals\n",
    "%load_ext autoreload"
   ]
  },
  {
   "cell_type": "code",
   "execution_count": 207,
   "metadata": {},
   "outputs": [],
   "source": [
    "def equ(M1,M2): \n",
    "    for i in range(3): \n",
    "        for j in range(3):\n",
    "            if not equals(M1[i,j],M2[i,j]): \n",
    "                print(M1[i,j])\n",
    "                print(M2[i,j])\n",
    "                return False\n",
    "            \n",
    "    return True"
   ]
  },
  {
   "cell_type": "markdown",
   "metadata": {},
   "source": [
    "## Rotating functions"
   ]
  },
  {
   "cell_type": "code",
   "execution_count": 280,
   "metadata": {},
   "outputs": [
    {
     "name": "stdout",
     "output_type": "stream",
     "text": [
      "-0.001117796172544608\n",
      "-0.0011177961725324609\n",
      "235\n"
     ]
    },
    {
     "ename": "ValueError",
     "evalue": "OH OH",
     "output_type": "error",
     "traceback": [
      "\u001b[0;31m---------------------------------------------------------------------------\u001b[0m",
      "\u001b[0;31mValueError\u001b[0m                                Traceback (most recent call last)",
      "\u001b[0;32m<ipython-input-280-342236cc18a7>\u001b[0m in \u001b[0;36m<module>\u001b[0;34m\u001b[0m\n\u001b[1;32m     17\u001b[0m     \u001b[0;32mif\u001b[0m \u001b[0;32mnot\u001b[0m \u001b[0mequ\u001b[0m\u001b[0;34m(\u001b[0m\u001b[0mM\u001b[0m\u001b[0;34m,\u001b[0m\u001b[0mtrans_matrix\u001b[0m\u001b[0;34m(\u001b[0m\u001b[0;34m*\u001b[0m\u001b[0mrep\u001b[0m\u001b[0;34m)\u001b[0m\u001b[0;34m)\u001b[0m \u001b[0;34m:\u001b[0m\u001b[0;34m\u001b[0m\u001b[0;34m\u001b[0m\u001b[0m\n\u001b[1;32m     18\u001b[0m         \u001b[0mprint\u001b[0m\u001b[0;34m(\u001b[0m\u001b[0mi\u001b[0m\u001b[0;34m)\u001b[0m\u001b[0;34m\u001b[0m\u001b[0;34m\u001b[0m\u001b[0m\n\u001b[0;32m---> 19\u001b[0;31m         \u001b[0;32mraise\u001b[0m \u001b[0mValueError\u001b[0m\u001b[0;34m(\u001b[0m\u001b[0;34m'OH OH'\u001b[0m\u001b[0;34m)\u001b[0m\u001b[0;34m\u001b[0m\u001b[0;34m\u001b[0m\u001b[0m\n\u001b[0m\u001b[1;32m     20\u001b[0m \u001b[0;34m\u001b[0m\u001b[0m\n\u001b[1;32m     21\u001b[0m     \u001b[0mi\u001b[0m\u001b[0;34m+=\u001b[0m\u001b[0;36m1\u001b[0m\u001b[0;34m\u001b[0m\u001b[0;34m\u001b[0m\u001b[0m\n",
      "\u001b[0;31mValueError\u001b[0m: OH OH"
     ]
    }
   ],
   "source": [
    "i=0\n",
    "while i < 3000 : \n",
    "    angles=[random.uniform(-2* math.pi, 2* math.pi) for i in range(3)]\n",
    "    # angles=[2.609046681938329, -3.5519708262845753, -5.34698673220635]\n",
    "#     print(angles)\n",
    "    M=trans_matrix(*angles)\n",
    "#     print(M)\n",
    "    # print(math.atan2(M[1,0],M[0,0]))\n",
    "    # print(M[2,2]==-1)\n",
    "    coords=vertical_matrix((2,5,7))\n",
    "    # print(M.dot(coords))\n",
    "    rep=eulerFromMatrix(M)\n",
    "#     print(rep)\n",
    "#     print(trans_matrix(*rep))\n",
    "    # print(trans_matrix(*rep).dot(coords))\n",
    "    # print((-2.5+1.67))\n",
    "    if not equ(M,trans_matrix(*rep)) : \n",
    "        print(i)\n",
    "        raise ValueError('OH OH')\n",
    "        \n",
    "    i+=1"
   ]
  },
  {
   "cell_type": "code",
   "execution_count": 210,
   "metadata": {},
   "outputs": [
    {
     "name": "stdout",
     "output_type": "stream",
     "text": [
      "[[-0.81383894 -0.57770637 -0.06262213]\n",
      " [-0.57877869  0.81548372 -0.00123757]\n",
      " [ 0.05178228  0.03523717 -0.99803654]]\n",
      "-0.5777063657698421\n"
     ]
    }
   ],
   "source": [
    "l = [3, 3]\n",
    "array=np.empty(l)\n",
    "print(array)\n",
    "print(array[0,1])"
   ]
  },
  {
   "cell_type": "code",
   "execution_count": 188,
   "metadata": {},
   "outputs": [
    {
     "ename": "NameError",
     "evalue": "name 'new_angles' is not defined",
     "output_type": "error",
     "traceback": [
      "\u001b[0;31m---------------------------------------------------------------------------\u001b[0m",
      "\u001b[0;31mNameError\u001b[0m                                 Traceback (most recent call last)",
      "\u001b[0;32m<ipython-input-188-42d7c5bc077b>\u001b[0m in \u001b[0;36m<module>\u001b[0;34m\u001b[0m\n\u001b[1;32m     11\u001b[0m \u001b[0mC\u001b[0m\u001b[0;34m=\u001b[0m\u001b[0mDD\u001b[0m\u001b[0;34m.\u001b[0m\u001b[0mpList\u001b[0m\u001b[0;34m[\u001b[0m\u001b[0;36m0\u001b[0m\u001b[0;34m]\u001b[0m\u001b[0;34m.\u001b[0m\u001b[0mresMapList\u001b[0m\u001b[0;34m\u001b[0m\u001b[0;34m\u001b[0m\u001b[0m\n\u001b[1;32m     12\u001b[0m \u001b[0;34m\u001b[0m\u001b[0m\n\u001b[0;32m---> 13\u001b[0;31m \u001b[0mprint\u001b[0m\u001b[0;34m(\u001b[0m\u001b[0mnew_angles\u001b[0m\u001b[0;34m)\u001b[0m\u001b[0;34m\u001b[0m\u001b[0;34m\u001b[0m\u001b[0m\n\u001b[0m\u001b[1;32m     14\u001b[0m \u001b[0;32mif\u001b[0m \u001b[0munmatrix\u001b[0m\u001b[0;34m(\u001b[0m\u001b[0mtrans_matrix\u001b[0m\u001b[0;34m(\u001b[0m\u001b[0;34m*\u001b[0m\u001b[0mnew_angles\u001b[0m\u001b[0;34m)\u001b[0m\u001b[0;34m)\u001b[0m\u001b[0;34m==\u001b[0m\u001b[0mnew_angles\u001b[0m\u001b[0;34m:\u001b[0m\u001b[0;34m\u001b[0m\u001b[0;34m\u001b[0m\u001b[0m\n\u001b[1;32m     15\u001b[0m     \u001b[0mprint\u001b[0m\u001b[0;34m(\u001b[0m\u001b[0munmatrix\u001b[0m\u001b[0;34m(\u001b[0m\u001b[0mtrans_matrix\u001b[0m\u001b[0;34m(\u001b[0m\u001b[0;34m*\u001b[0m\u001b[0mnew_angles\u001b[0m\u001b[0;34m)\u001b[0m\u001b[0;34m)\u001b[0m\u001b[0;34m)\u001b[0m\u001b[0;34m\u001b[0m\u001b[0;34m\u001b[0m\u001b[0m\n",
      "\u001b[0;31mNameError\u001b[0m: name 'new_angles' is not defined"
     ]
    }
   ],
   "source": [
    "DD=zParse(\"/Users/jprieto/Docking/data/decoys_bm4_zd3.0.2_6deg_fixed/results/1HIA.zd3.0.2.fg.fixed.out\")\n",
    "# print(DD.baryREC)\n",
    "# print(DD.eulerREC)\n",
    "DD.setReceptor(\"/Users/jprieto/Docking/data/decoys_bm4_zd3.0.2_6deg_fixed/input_pdbs/1HIA_r_u.pdb.ms_2\")\n",
    "DD.setLigand(\"/Users/jprieto/Docking/data/decoys_bm4_zd3.0.2_6deg_fixed/input_pdbs/1HIA_l_u.pdb.ms_2\")\n",
    "\n",
    "\n",
    "DD.pList[0].ccmap(dist=5)\n",
    "\n",
    "    \n",
    "C=DD.pList[0].resMapList\n",
    "\n",
    "print(new_angles)\n",
    "if unmatrix(trans_matrix(*new_angles))==new_angles: \n",
    "    print(unmatrix(trans_matrix(*new_angles)))\n",
    "    print('OK')\n",
    "else : \n",
    "    print(unmatrix(trans_matrix(*new_angles)))"
   ]
  },
  {
   "cell_type": "code",
   "execution_count": 183,
   "metadata": {},
   "outputs": [],
   "source": [
    "for atom in DD.pdbObjLigand.model[0]:\n",
    "    initial_coords=(atom.x, atom.y, atom.z)\n",
    "    a=trans_matrix(*DD.eulerREC)\n",
    "    b=coord_matrix(DD.baryLIG, initial_coords)\n",
    "#     print(initial_coords)\n",
    "#     print(DD.baryLIG)\n",
    "#     print(b)\n",
    "    # print(b)\n",
    "    coords=a.dot(b)\n",
    "    center_coords=recenter(DD.baryLIG, coords)\n",
    "    center_coords=recenter(DD.baryREC, coords)\n",
    "    center_coords=translate_rev(DD.pList[0].translate,center_coords)\n",
    "#     print(coords)\n",
    "#     print(DD.baryLIG)\n",
    "#     print(center_coords)\n",
    "    atom.x=coords[0,0]\n",
    "    atom.y=coords[1,0]\n",
    "    atom.z=coords[2,0]\n",
    "# print(DD.pdbObjLigand)\n",
    "\n",
    "with open(\"new_1HIA_lig.pdb\",'w') as f: \n",
    "    f.write(str(DD.pdbObjLigand))"
   ]
  },
  {
   "cell_type": "code",
   "execution_count": 131,
   "metadata": {},
   "outputs": [
    {
     "name": "stdout",
     "output_type": "stream",
     "text": [
      "43\n",
      "30\n",
      "['102YRec', '141YRec', '151YRec', '152YRec', '153YRec', '154YRec', '193YRec', '194YRec', '195YRec', '196YRec', '197YRec', '212YRec', '213YRec', '214YRec', '32XRec', '33XRec', '34XRec', '35XRec', '36XRec', '38XRec', '39XRec', '40XRec', '41XRec', '42XRec', '43XRec', '54XRec', '55XRec', '56XRec', '57XRec', '58XRec', '59XRec', '60XRec', '61XRec', '62XRec', '63XRec', '64XRec', '66XRec', '70XRec', '71XRec', '72XRec', '73XRec', '74XRec', '75XRec']\n"
     ]
    }
   ],
   "source": [
    "def where(liste, str_cond) : \n",
    "    count=0\n",
    "    for i in liste : \n",
    "        if str_cond in i : \n",
    "            count+=1\n",
    "    return count\n",
    "\n",
    "print(where(C,'Rec'))\n",
    "print(where(C,'Lig'))\n",
    "# print(DD.pList[0]._ccmap)\n",
    "\n",
    "print(sorted([ i for i in C if 'Rec' in i]))"
   ]
  },
  {
   "cell_type": "markdown",
   "metadata": {},
   "source": [
    "# Test matrices"
   ]
  },
  {
   "cell_type": "code",
   "execution_count": 135,
   "metadata": {},
   "outputs": [],
   "source": [
    "A=np.matrix([[1,1,1],[2,2,2],[3,3,3]])\n",
    "X=np.matrix([[1],[2],[3]])\n",
    "B=np.matrix([[1,2,3],[2,2,3],[4,3,2]])"
   ]
  },
  {
   "cell_type": "code",
   "execution_count": 193,
   "metadata": {},
   "outputs": [
    {
     "name": "stdout",
     "output_type": "stream",
     "text": [
      "(0.9999999999999996, 0.9999999999999998, -2.4492935982947064e-16)\n"
     ]
    }
   ],
   "source": [
    "e1=(1,1,0)\n",
    "e2=(2*math.pi,2*math.pi,2*math.pi)\n",
    "\n",
    "M1=trans_matrix(*e1)\n",
    "M2=trans_matrix(*e2)\n",
    "\n",
    "T=M2.dot(M1)\n",
    "\n",
    "E=eulerFromMatrix(T)\n",
    "print(E)"
   ]
  },
  {
   "cell_type": "code",
   "execution_count": 199,
   "metadata": {},
   "outputs": [
    {
     "ename": "ImportError",
     "evalue": "cannot import name 'eul2quat' from 'matlab' (/anaconda3/lib/python3.7/site-packages/matlab.py)",
     "output_type": "error",
     "traceback": [
      "\u001b[0;31m---------------------------------------------------------------------------\u001b[0m",
      "\u001b[0;31mImportError\u001b[0m                               Traceback (most recent call last)",
      "\u001b[0;32m<ipython-input-199-5592b10905a1>\u001b[0m in \u001b[0;36m<module>\u001b[0;34m\u001b[0m\n\u001b[0;32m----> 1\u001b[0;31m \u001b[0;32mfrom\u001b[0m \u001b[0mmatlab\u001b[0m \u001b[0;32mimport\u001b[0m \u001b[0meul2quat\u001b[0m\u001b[0;34m\u001b[0m\u001b[0;34m\u001b[0m\u001b[0m\n\u001b[0m",
      "\u001b[0;31mImportError\u001b[0m: cannot import name 'eul2quat' from 'matlab' (/anaconda3/lib/python3.7/site-packages/matlab.py)"
     ]
    }
   ],
   "source": [
    "from matlab import eul2quat"
   ]
  },
  {
   "cell_type": "code",
   "execution_count": null,
   "metadata": {},
   "outputs": [],
   "source": []
  }
 ],
 "metadata": {
  "kernelspec": {
   "display_name": "Python 3",
   "language": "python",
   "name": "python3"
  },
  "language_info": {
   "codemirror_mode": {
    "name": "ipython",
    "version": 3
   },
   "file_extension": ".py",
   "mimetype": "text/x-python",
   "name": "python",
   "nbconvert_exporter": "python",
   "pygments_lexer": "ipython3",
   "version": "3.7.3"
  }
 },
 "nbformat": 4,
 "nbformat_minor": 2
}
